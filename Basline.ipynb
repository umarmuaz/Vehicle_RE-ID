{
 "cells": [
  {
   "cell_type": "markdown",
   "metadata": {
    "slideshow": {
     "slide_type": "slide"
    }
   },
   "source": [
    "# Imports"
   ]
  },
  {
   "cell_type": "code",
   "execution_count": null,
   "metadata": {
    "ExecuteTime": {
     "end_time": "2020-07-22T04:47:16.956350Z",
     "start_time": "2020-07-22T04:47:10.767939Z"
    },
    "slideshow": {
     "slide_type": "subslide"
    }
   },
   "outputs": [],
   "source": [
    "import tensorflow as tf\n",
    "from keras.models import load_model\n",
    "from keras.utils import plot_model\n",
    "from time import time as t\n",
    "from tqdm import tqdm\n",
    "import cv2\n",
    "from glob import glob\n",
    "import pandas as pd\n",
    "import numpy as np\n",
    "from matplotlib import pyplot as plt\n",
    "from matplotlib import gridspec\n",
    "%matplotlib inline"
   ]
  },
  {
   "cell_type": "markdown",
   "metadata": {
    "slideshow": {
     "slide_type": "slide"
    }
   },
   "source": [
    "## Helper Functions"
   ]
  },
  {
   "cell_type": "code",
   "execution_count": null,
   "metadata": {
    "ExecuteTime": {
     "end_time": "2020-07-22T05:45:11.052583Z",
     "start_time": "2020-07-22T05:45:10.734681Z"
    },
    "slideshow": {
     "slide_type": "subslide"
    }
   },
   "outputs": [],
   "source": [
    "# df = pd.read_csv('veriwild_ann.csv')\n",
    "# model_lables = df.drop('image',axis=1).columns[:151]\n",
    "# type_lables = df.drop('image',axis=1).columns[151:-12]\n",
    "# color_lables = df.drop('image',axis=1).columns[-12:]\n",
    "\n",
    "def decodeLables(encoding):\n",
    "    idx = encoding.split('-')\n",
    "    return model_lables[int(idx[0])]+'-'+type_lables[int(idx[1])]+'-'+color_lables[int(idx[2])]\n",
    "\n",
    "def decodeOutput(idx):\n",
    "    lable = decodeLables(idx[3])\n",
    "    image = cv2.resize(cv2.imread('raw/{}.jpg'.format(idx[0])),(100,100),cv2.INTER_AREA)\n",
    "    _id = idx[1]\n",
    "    return lable, image, _id\n"
   ]
  },
  {
   "cell_type": "code",
   "execution_count": null,
   "metadata": {
    "ExecuteTime": {
     "end_time": "2020-07-22T05:45:41.094218Z",
     "start_time": "2020-07-22T05:45:41.053256Z"
    },
    "code_folding": [
     9
    ],
    "slideshow": {
     "slide_type": "subslide"
    }
   },
   "outputs": [],
   "source": [
    "class Node():\n",
    "    def __init__(self,nodeName, model_name='model/VMMR_noOPT.hdf5', csv_files='veriwild_ann.csv'):\n",
    "        self.nodeName = nodeName\n",
    "        self.model = load_model(model_name, compile=False)\n",
    "        df = pd.read_csv(csv_file)\n",
    "        self.model_lables = df.drop('image',axis=1).columns[:151]\n",
    "        self.type_lables = df.drop('image',axis=1).columns[151:-12]\n",
    "        self.color_lables = df.drop('image',axis=1).columns[-12:]\n",
    "        \n",
    "    def read(self, image_name):\n",
    "        return cv2.resize(cv2.imread(image_name),(299,299),cv2.INTER_AREA)\n",
    "    def predict(self, img):\n",
    "        pred = self.model.predict(img.reshape(-1,299,299,3)/255.0)\n",
    "        _id =  '{}-{}-{}'.format(np.argmax(pred[0]),np.argmax(pred[1]),np.argmax(pred[2]))\n",
    "        text = '{}-{}-{}'.format(self.model_lables[np.argmax(pred[0])],\n",
    "                                 self.type_lables[np.argmax(pred[1])],\n",
    "                                 self.color_lables[np.argmax(pred[2])])\n",
    "        return _id,text\n",
    "    def process(self):\n",
    "        self.ref_time = t()\n",
    "        i = 0\n",
    "        for name in tqdm(glob('raw/{}/*.jpg'.format(self.name))):\n",
    "            img = self.read(name.replace('\\\\','/'))\n",
    "            pred,text = self.predict(img)\n",
    "            n = name.split('\\\\')[1].split('.')[0]\n",
    "            print(pred, text)"
   ]
  },
  {
   "cell_type": "code",
   "execution_count": null,
   "metadata": {
    "ExecuteTime": {
     "end_time": "2020-07-22T05:46:29.596485Z",
     "start_time": "2020-07-22T05:45:53.614271Z"
    },
    "scrolled": false,
    "slideshow": {
     "slide_type": "subslide"
    }
   },
   "outputs": [],
   "source": [
    "node1 = Node('node_1')\n",
    "node1.process()"
   ]
  },
  {
   "cell_type": "code",
   "execution_count": null,
   "metadata": {},
   "outputs": [],
   "source": []
  }
 ],
 "metadata": {
  "kernelspec": {
   "display_name": "Python 3",
   "language": "python",
   "name": "python3"
  },
  "language_info": {
   "codemirror_mode": {
    "name": "ipython",
    "version": 3
   },
   "file_extension": ".py",
   "mimetype": "text/x-python",
   "name": "python",
   "nbconvert_exporter": "python",
   "pygments_lexer": "ipython3",
   "version": "3.7.3"
  },
  "toc": {
   "base_numbering": 1,
   "nav_menu": {},
   "number_sections": true,
   "sideBar": true,
   "skip_h1_title": false,
   "title_cell": "Table of Contents",
   "title_sidebar": "Contents",
   "toc_cell": false,
   "toc_position": {},
   "toc_section_display": true,
   "toc_window_display": false
  },
  "varInspector": {
   "cols": {
    "lenName": 16,
    "lenType": 16,
    "lenVar": 40
   },
   "kernels_config": {
    "python": {
     "delete_cmd_postfix": "",
     "delete_cmd_prefix": "del ",
     "library": "var_list.py",
     "varRefreshCmd": "print(var_dic_list())"
    },
    "r": {
     "delete_cmd_postfix": ") ",
     "delete_cmd_prefix": "rm(",
     "library": "var_list.r",
     "varRefreshCmd": "cat(var_dic_list()) "
    }
   },
   "types_to_exclude": [
    "module",
    "function",
    "builtin_function_or_method",
    "instance",
    "_Feature"
   ],
   "window_display": true
  }
 },
 "nbformat": 4,
 "nbformat_minor": 2
}
